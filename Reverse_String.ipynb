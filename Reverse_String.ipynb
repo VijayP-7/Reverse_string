{
 "cells": [
  {
   "cell_type": "markdown",
   "id": "0ce42e41",
   "metadata": {},
   "source": [
    "## Write a Python program that accepts a word from the user and reverse it."
   ]
  },
  {
   "cell_type": "code",
   "execution_count": 16,
   "id": "2e693b44",
   "metadata": {},
   "outputs": [
    {
     "name": "stdout",
     "output_type": "stream",
     "text": [
      "Input:-Edyoda\n",
      "adoydE\n"
     ]
    }
   ],
   "source": [
    "String = input(\"Input:-\")\n",
    " \n",
    "for str in range(len(String) - 1,-1,-1):\n",
    "    print(String[str], end=\"\")\n",
    "print(\"\")"
   ]
  },
  {
   "cell_type": "code",
   "execution_count": null,
   "id": "c7695418",
   "metadata": {},
   "outputs": [],
   "source": []
  }
 ],
 "metadata": {
  "kernelspec": {
   "display_name": "Python 3 (ipykernel)",
   "language": "python",
   "name": "python3"
  },
  "language_info": {
   "codemirror_mode": {
    "name": "ipython",
    "version": 3
   },
   "file_extension": ".py",
   "mimetype": "text/x-python",
   "name": "python",
   "nbconvert_exporter": "python",
   "pygments_lexer": "ipython3",
   "version": "3.9.12"
  }
 },
 "nbformat": 4,
 "nbformat_minor": 5
}
